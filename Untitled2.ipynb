{
 "cells": [
  {
   "cell_type": "code",
   "execution_count": 14,
   "metadata": {},
   "outputs": [],
   "source": [
    "from twitterscraper import query_tweets\n",
    "import datetime as dt\n",
    "import pandas as pd\n",
    "   "
   ]
  },
  {
   "cell_type": "code",
   "execution_count": null,
   "metadata": {},
   "outputs": [],
   "source": [
    "if __name__ == '__main__':\n",
    "    # list_of_tweets = query_tweets(\"Trump OR Clinton\", 10)\n",
    "    list_of_tweets = query_tweets('accident', limit=10000, begindate=dt.date(2020,7,1), enddate=dt.date.today(), poolsize=20, lang='english')"
   ]
  },
  {
   "cell_type": "code",
   "execution_count": 15,
   "metadata": {},
   "outputs": [],
   "source": [
    "df = pd.DataFrame(t.__dict__ for t in list_of_tweets)\n",
    "df.shape"
   ]
  },
  {
   "cell_type": "code",
   "execution_count": 19,
   "metadata": {},
   "outputs": [
    {
     "output_type": "execute_result",
     "data": {
      "text/plain": "       screen_name                     username              user_id  \\\n0  Minuki_Naruhodo         Trucy ♢ Wright ♢ Bot           3878321952   \n1  JoseJim95959849                 Jose Jimenez  1254987892511866881   \n2  faeriefolkslore       𝚋𝚎𝚎 ♡︎ ☂︎︎ loves poppy  1176846089896415233   \n3          jkkramm  G.I. Jeff: The Rise of Cora           2897835805   \n4  PatriotJenn1fer              PatriotJ3nnifer           4326875363   \n\n              tweet_id                                    tweet_url  \\\n0  1280290428160405504  /Minuki_Naruhodo/status/1280290428160405504   \n1  1280290426713407489  /JoseJim95959849/status/1280290426713407489   \n2  1280290413849358336  /faeriefolkslore/status/1280290413849358336   \n3  1280290338628911109          /jkkramm/status/1280290338628911109   \n4  1280290261222879232  /PatriotJenn1fer/status/1280290261222879232   \n\n            timestamp  timestamp_epochs  \\\n0 2020-07-06 23:59:59        1594079999   \n1 2020-07-06 23:59:59        1594079999   \n2 2020-07-06 23:59:55        1594079995   \n3 2020-07-06 23:59:38        1594079978   \n4 2020-07-06 23:59:19        1594079959   \n\n                                                text  \\\n0    Phoenix Wright... Daddy's hit and run accident.   \n1  @EAHelp EA took nearly 600k coins from my acco...   \n2                                        . accident.   \n3  I hope you learned a lesson here Gabby lol. So...   \n4  THIS infuriates me! it was an accident! This p...   \n\n                                           text_html  \\\n0  <p class=\"TweetTextSize js-tweet-text tweet-te...   \n1  <p class=\"TweetTextSize js-tweet-text tweet-te...   \n2  <p class=\"TweetTextSize js-tweet-text tweet-te...   \n3  <p class=\"TweetTextSize js-tweet-text tweet-te...   \n4  <p class=\"TweetTextSize js-tweet-text tweet-te...   \n\n                                               links  ... has_media  img_urls  \\\n0                                                 []  ...     False        []   \n1                                                 []  ...     False        []   \n2                                                 []  ...     False        []   \n3                                                 []  ...     False        []   \n4  [https://twitter.com/MrAndyNgo/status/12802774...  ...     False        []   \n\n  video_url likes  retweets  replies  is_replied  is_reply_to  \\\n0               0         0        0       False        False   \n1               0         1        3        True        False   \n2               0         0        0       False         True   \n3               3         0        1        True         True   \n4              73        58       39        True        False   \n\n       parent_tweet_id                                     reply_to_users  \n0                                                                      []  \n1                                                                      []  \n2  1280287453102800898  [{'screen_name': 'faeriimin', 'user_id': '1197...  \n3  1280289109303574529  [{'screen_name': 'GabrielleLane48', 'user_id':...  \n4                                                                      []  \n\n[5 rows x 21 columns]",
      "text/html": "<div>\n<style scoped>\n    .dataframe tbody tr th:only-of-type {\n        vertical-align: middle;\n    }\n\n    .dataframe tbody tr th {\n        vertical-align: top;\n    }\n\n    .dataframe thead th {\n        text-align: right;\n    }\n</style>\n<table border=\"1\" class=\"dataframe\">\n  <thead>\n    <tr style=\"text-align: right;\">\n      <th></th>\n      <th>screen_name</th>\n      <th>username</th>\n      <th>user_id</th>\n      <th>tweet_id</th>\n      <th>tweet_url</th>\n      <th>timestamp</th>\n      <th>timestamp_epochs</th>\n      <th>text</th>\n      <th>text_html</th>\n      <th>links</th>\n      <th>...</th>\n      <th>has_media</th>\n      <th>img_urls</th>\n      <th>video_url</th>\n      <th>likes</th>\n      <th>retweets</th>\n      <th>replies</th>\n      <th>is_replied</th>\n      <th>is_reply_to</th>\n      <th>parent_tweet_id</th>\n      <th>reply_to_users</th>\n    </tr>\n  </thead>\n  <tbody>\n    <tr>\n      <th>0</th>\n      <td>Minuki_Naruhodo</td>\n      <td>Trucy ♢ Wright ♢ Bot</td>\n      <td>3878321952</td>\n      <td>1280290428160405504</td>\n      <td>/Minuki_Naruhodo/status/1280290428160405504</td>\n      <td>2020-07-06 23:59:59</td>\n      <td>1594079999</td>\n      <td>Phoenix Wright... Daddy's hit and run accident.</td>\n      <td>&lt;p class=\"TweetTextSize js-tweet-text tweet-te...</td>\n      <td>[]</td>\n      <td>...</td>\n      <td>False</td>\n      <td>[]</td>\n      <td></td>\n      <td>0</td>\n      <td>0</td>\n      <td>0</td>\n      <td>False</td>\n      <td>False</td>\n      <td></td>\n      <td>[]</td>\n    </tr>\n    <tr>\n      <th>1</th>\n      <td>JoseJim95959849</td>\n      <td>Jose Jimenez</td>\n      <td>1254987892511866881</td>\n      <td>1280290426713407489</td>\n      <td>/JoseJim95959849/status/1280290426713407489</td>\n      <td>2020-07-06 23:59:59</td>\n      <td>1594079999</td>\n      <td>@EAHelp EA took nearly 600k coins from my acco...</td>\n      <td>&lt;p class=\"TweetTextSize js-tweet-text tweet-te...</td>\n      <td>[]</td>\n      <td>...</td>\n      <td>False</td>\n      <td>[]</td>\n      <td></td>\n      <td>0</td>\n      <td>1</td>\n      <td>3</td>\n      <td>True</td>\n      <td>False</td>\n      <td></td>\n      <td>[]</td>\n    </tr>\n    <tr>\n      <th>2</th>\n      <td>faeriefolkslore</td>\n      <td>𝚋𝚎𝚎 ♡︎ ☂︎︎ loves poppy</td>\n      <td>1176846089896415233</td>\n      <td>1280290413849358336</td>\n      <td>/faeriefolkslore/status/1280290413849358336</td>\n      <td>2020-07-06 23:59:55</td>\n      <td>1594079995</td>\n      <td>. accident.</td>\n      <td>&lt;p class=\"TweetTextSize js-tweet-text tweet-te...</td>\n      <td>[]</td>\n      <td>...</td>\n      <td>False</td>\n      <td>[]</td>\n      <td></td>\n      <td>0</td>\n      <td>0</td>\n      <td>0</td>\n      <td>False</td>\n      <td>True</td>\n      <td>1280287453102800898</td>\n      <td>[{'screen_name': 'faeriimin', 'user_id': '1197...</td>\n    </tr>\n    <tr>\n      <th>3</th>\n      <td>jkkramm</td>\n      <td>G.I. Jeff: The Rise of Cora</td>\n      <td>2897835805</td>\n      <td>1280290338628911109</td>\n      <td>/jkkramm/status/1280290338628911109</td>\n      <td>2020-07-06 23:59:38</td>\n      <td>1594079978</td>\n      <td>I hope you learned a lesson here Gabby lol. So...</td>\n      <td>&lt;p class=\"TweetTextSize js-tweet-text tweet-te...</td>\n      <td>[]</td>\n      <td>...</td>\n      <td>False</td>\n      <td>[]</td>\n      <td></td>\n      <td>3</td>\n      <td>0</td>\n      <td>1</td>\n      <td>True</td>\n      <td>True</td>\n      <td>1280289109303574529</td>\n      <td>[{'screen_name': 'GabrielleLane48', 'user_id':...</td>\n    </tr>\n    <tr>\n      <th>4</th>\n      <td>PatriotJenn1fer</td>\n      <td>PatriotJ3nnifer</td>\n      <td>4326875363</td>\n      <td>1280290261222879232</td>\n      <td>/PatriotJenn1fer/status/1280290261222879232</td>\n      <td>2020-07-06 23:59:19</td>\n      <td>1594079959</td>\n      <td>THIS infuriates me! it was an accident! This p...</td>\n      <td>&lt;p class=\"TweetTextSize js-tweet-text tweet-te...</td>\n      <td>[https://twitter.com/MrAndyNgo/status/12802774...</td>\n      <td>...</td>\n      <td>False</td>\n      <td>[]</td>\n      <td></td>\n      <td>73</td>\n      <td>58</td>\n      <td>39</td>\n      <td>True</td>\n      <td>False</td>\n      <td></td>\n      <td>[]</td>\n    </tr>\n  </tbody>\n</table>\n<p>5 rows × 21 columns</p>\n</div>"
     },
     "metadata": {},
     "execution_count": 19
    }
   ],
   "source": [
    "df.head()"
   ]
  },
  {
   "cell_type": "code",
   "execution_count": 17,
   "metadata": {},
   "outputs": [],
   "source": [
    "df.to_csv('accident 10179.csv')"
   ]
  }
 ],
 "metadata": {
  "kernelspec": {
   "display_name": "Python 3",
   "language": "python",
   "name": "python3"
  },
  "language_info": {
   "codemirror_mode": {
    "name": "ipython",
    "version": 3
   },
   "file_extension": ".py",
   "mimetype": "text/x-python",
   "name": "python",
   "nbconvert_exporter": "python",
   "pygments_lexer": "ipython3",
   "version": "3.7.6-final"
  }
 },
 "nbformat": 4,
 "nbformat_minor": 4
}