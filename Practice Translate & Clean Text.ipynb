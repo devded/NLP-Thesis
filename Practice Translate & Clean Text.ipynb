{
 "cells": [
  {
   "cell_type": "code",
   "execution_count": 1,
   "metadata": {},
   "outputs": [
    {
     "data": {
      "text/plain": [
       "10"
      ]
     },
     "execution_count": 1,
     "metadata": {},
     "output_type": "execute_result"
    }
   ],
   "source": [
    "5+5"
   ]
  },
  {
   "cell_type": "code",
   "execution_count": 2,
   "metadata": {},
   "outputs": [],
   "source": [
    "test = 100*5"
   ]
  },
  {
   "cell_type": "code",
   "execution_count": 3,
   "metadata": {},
   "outputs": [],
   "source": [
    "test = test + 100"
   ]
  },
  {
   "cell_type": "code",
   "execution_count": 4,
   "metadata": {},
   "outputs": [
    {
     "data": {
      "text/plain": [
       "600"
      ]
     },
     "execution_count": 4,
     "metadata": {},
     "output_type": "execute_result"
    }
   ],
   "source": [
    "test"
   ]
  },
  {
   "cell_type": "code",
   "execution_count": 5,
   "metadata": {},
   "outputs": [
    {
     "name": "stdout",
     "output_type": "stream",
     "text": [
      "600\n"
     ]
    }
   ],
   "source": [
    "print(test)"
   ]
  },
  {
   "cell_type": "code",
   "execution_count": 6,
   "metadata": {},
   "outputs": [
    {
     "ename": "ImportError",
     "evalue": "cannot import name 'TextBolb' from 'textblob' (C:\\ProgramData\\Anaconda3\\lib\\site-packages\\textblob\\__init__.py)",
     "output_type": "error",
     "traceback": [
      "\u001b[1;31m---------------------------------------------------------------------------\u001b[0m",
      "\u001b[1;31mImportError\u001b[0m                               Traceback (most recent call last)",
      "\u001b[1;32m<ipython-input-6-ef9c770d7152>\u001b[0m in \u001b[0;36m<module>\u001b[1;34m\u001b[0m\n\u001b[1;32m----> 1\u001b[1;33m \u001b[1;32mfrom\u001b[0m \u001b[0mtextblob\u001b[0m \u001b[1;32mimport\u001b[0m \u001b[0mTextBolb\u001b[0m\u001b[1;33m\u001b[0m\u001b[1;33m\u001b[0m\u001b[0m\n\u001b[0m\u001b[0;32m      2\u001b[0m \u001b[0mword10\u001b[0m \u001b[1;33m=\u001b[0m \u001b[0mTextBlob\u001b[0m\u001b[1;33m(\u001b[0m\u001b[1;34m'hello'\u001b[0m\u001b[1;33m)\u001b[0m\u001b[1;33m\u001b[0m\u001b[1;33m\u001b[0m\u001b[0m\n\u001b[0;32m      3\u001b[0m \u001b[0mz\u001b[0m \u001b[1;33m=\u001b[0m \u001b[0mword10\u001b[0m\u001b[1;33m.\u001b[0m\u001b[0mtranslate\u001b[0m\u001b[1;33m(\u001b[0m\u001b[0mfrom_lang\u001b[0m\u001b[1;33m=\u001b[0m\u001b[1;34m'en'\u001b[0m\u001b[1;33m,\u001b[0m\u001b[0mto\u001b[0m \u001b[1;33m=\u001b[0m\u001b[1;34m'ta'\u001b[0m\u001b[1;33m)\u001b[0m\u001b[1;33m\u001b[0m\u001b[1;33m\u001b[0m\u001b[0m\n\u001b[0;32m      4\u001b[0m \u001b[0mprint\u001b[0m \u001b[1;33m(\u001b[0m\u001b[0mz\u001b[0m\u001b[1;33m)\u001b[0m\u001b[1;33m\u001b[0m\u001b[1;33m\u001b[0m\u001b[0m\n",
      "\u001b[1;31mImportError\u001b[0m: cannot import name 'TextBolb' from 'textblob' (C:\\ProgramData\\Anaconda3\\lib\\site-packages\\textblob\\__init__.py)"
     ]
    }
   ],
   "source": [
    "from textblob import TextBolb\n",
    "word10 = TextBlob('hello')\n",
    "z = word10.translate(from_lang='en',to ='ta')\n",
    "print (z)"
   ]
  },
  {
   "cell_type": "code",
   "execution_count": 9,
   "metadata": {},
   "outputs": [
    {
     "ename": "ImportError",
     "evalue": "cannot import name 'TextBolb' from 'textblob' (C:\\ProgramData\\Anaconda3\\lib\\site-packages\\textblob\\__init__.py)",
     "output_type": "error",
     "traceback": [
      "\u001b[1;31m---------------------------------------------------------------------------\u001b[0m",
      "\u001b[1;31mImportError\u001b[0m                               Traceback (most recent call last)",
      "\u001b[1;32m<ipython-input-9-4f16f34da593>\u001b[0m in \u001b[0;36m<module>\u001b[1;34m\u001b[0m\n\u001b[1;32m----> 1\u001b[1;33m \u001b[1;32mfrom\u001b[0m \u001b[0mtextblob\u001b[0m \u001b[1;32mimport\u001b[0m \u001b[0mTextBolb\u001b[0m\u001b[1;33m\u001b[0m\u001b[1;33m\u001b[0m\u001b[0m\n\u001b[0m\u001b[0;32m      2\u001b[0m \u001b[0mword10\u001b[0m \u001b[1;33m=\u001b[0m \u001b[0mTextBlob\u001b[0m\u001b[1;33m(\u001b[0m\u001b[1;34m'hello'\u001b[0m\u001b[1;33m)\u001b[0m\u001b[1;33m\u001b[0m\u001b[1;33m\u001b[0m\u001b[0m\n\u001b[0;32m      3\u001b[0m \u001b[0mz\u001b[0m \u001b[1;33m=\u001b[0m \u001b[0mword10\u001b[0m\u001b[1;33m.\u001b[0m\u001b[0mtranslate\u001b[0m\u001b[1;33m(\u001b[0m\u001b[0mfrom_lang\u001b[0m\u001b[1;33m=\u001b[0m\u001b[1;34m'en'\u001b[0m\u001b[1;33m,\u001b[0m\u001b[0mto\u001b[0m \u001b[1;33m=\u001b[0m\u001b[1;34m'ta'\u001b[0m\u001b[1;33m)\u001b[0m\u001b[1;33m\u001b[0m\u001b[1;33m\u001b[0m\u001b[0m\n\u001b[0;32m      4\u001b[0m \u001b[0mprint\u001b[0m\u001b[1;33m(\u001b[0m\u001b[0mz\u001b[0m\u001b[1;33m)\u001b[0m\u001b[1;33m\u001b[0m\u001b[1;33m\u001b[0m\u001b[0m\n",
      "\u001b[1;31mImportError\u001b[0m: cannot import name 'TextBolb' from 'textblob' (C:\\ProgramData\\Anaconda3\\lib\\site-packages\\textblob\\__init__.py)"
     ]
    }
   ],
   "source": [
    "from textblob import TextBolb\n",
    "word10 = TextBlob('hello')\n",
    "z = word10.translate(from_lang='en',to ='ta')\n",
    "print(z)\n"
   ]
  },
  {
   "cell_type": "code",
   "execution_count": 10,
   "metadata": {},
   "outputs": [
    {
     "name": "stdout",
     "output_type": "stream",
     "text": [
      "வணக்கம்\n"
     ]
    }
   ],
   "source": [
    "from textblob import TextBlob\n",
    "word10 = TextBlob('hello')\n",
    "z = word10.translate(from_lang='en',to ='ta')\n",
    "print(z)\n"
   ]
  },
  {
   "cell_type": "code",
   "execution_count": 11,
   "metadata": {},
   "outputs": [
    {
     "name": "stdout",
     "output_type": "stream",
     "text": [
      "হ্যালো\n"
     ]
    }
   ],
   "source": [
    "from textblob import TextBlob\n",
    "word10 = TextBlob('hello')\n",
    "z = word10.translate(from_lang='en',to ='bn')\n",
    "print(z)\n"
   ]
  },
  {
   "cell_type": "code",
   "execution_count": 12,
   "metadata": {},
   "outputs": [
    {
     "name": "stdout",
     "output_type": "stream",
     "text": [
      "Sylhet, June 14 (bdnews24.com) দুই দুই ”Two motorcyclists were killed when a truck overturned in Sylhet's South Surma. The accident took place at Atirbari on the Dhaka-Sylhet highway on Tuesday afternoon, police said. The deceased were identified as Kawshar Ahmed, 28, son of Neshar Ali of Laxmipur village in South Surma and Kawshar Mia, 20, son of Bazlu Mia of Lamapara village. Sylhet Tamabil Highway Police Sub-Inspector (SI) Kamal Uddin said the motorcyclists met with an accident on their way home from their home in Sylhet around 2pm. Kawsar Ahmed died on the spot when a truck coming from the opposite direction hit the motorcycle at Atirbari. Mia died after being taken to the hospital. The body was sent to the morgue of Sylhet Osmani Medical College Hospital for autopsy. Bdnews24.com/presentative / cs / kms / 1854 d.\n"
     ]
    }
   ],
   "source": [
    "word10 = TextBlob('সিলেট, জুন ১৪ (বিডিনিউজ টোয়েন্টিফোর ডটকম)- সিলেটের দক্ষিণ সুরমায় ট্রাকচাপায় মোটর সাইকেলের দুই আরোহী নিহত হয়েছে। মঙ্গলবার দুপুরে ঢাকা-সিলেট মহাসড়কের অতিরবাড়ি নামক স্থানে এ দুর্ঘটনা ঘটে বলে পুলিশ জানিয়েছে। নিহতরা হলেন- দক্ষিণ সুরমার লক্ষীপুর গ্রামের নেছার আলীর ছেলে কওছর আহমদ (২৮) ও লামাপাড়া গ্রামের বজলু মিয়ার ছেলে কয়ছর মিয়া (২০)। সিলেটের তামাবিল হাইওয়ে পুলিশের উপ-পরিদর্শক (এসআই) কামাল উদ্দিন জানান, বেলা ২টার দিকে মোটর সাইকেল আরোহীরা নিজ বাড়ি থেকে সিলেট শহরে আসার পথে দুর্ঘটনার শিকার হয়। অতিরবাড়িতে বিপরীত দিক থেকে আসা একটি ট্রাক মোটর সাইকেলটিকে চাপা দিলে কওছর আহমদ ঘটনাস্থলেই মারা যান। হাসপাতালে নেয়ার পর মারা যান কয়ছর মিয়া। লাশ ময়না তদন্তের জন্য সিলেট ওসমানী মেডিকেল কলেজ হাসপাতালের মর্গে পাঠানো হয়। বিডিনিউজ টোয়েন্টিফোর ডটকম/প্রতিনিধি/সিএস/কেএমএস/১৭৫৪ ঘ.')\n",
    "z = word10.translate(from_lang='bn',to ='en')\n",
    "print(z)"
   ]
  },
  {
   "cell_type": "code",
   "execution_count": 13,
   "metadata": {},
   "outputs": [
    {
     "ename": "SyntaxError",
     "evalue": "invalid syntax (<ipython-input-13-bb5858c4a629>, line 1)",
     "output_type": "error",
     "traceback": [
      "\u001b[1;36m  File \u001b[1;32m\"<ipython-input-13-bb5858c4a629>\"\u001b[1;36m, line \u001b[1;32m1\u001b[0m\n\u001b[1;33m    word10 = TextBlob('Sylhet, June 14 (bdnews24.com) দুই দুই ”Two motorcyclists were killed when a truck overturned in Sylhet's South Surma. The accident took place at Atirbari on the Dhaka-Sylhet highway on Tuesday afternoon, police said. The deceased were identified as Kawshar Ahmed, 28, son of Neshar Ali of Laxmipur village in South Surma and Kawshar Mia, 20, son of Bazlu Mia of Lamapara village. Sylhet Tamabil Highway Police Sub-Inspector (SI) Kamal Uddin said the motorcyclists met with an accident on their way home from their home in Sylhet around 2pm. Kawsar Ahmed died on the spot when a truck coming from the opposite direction hit the motorcycle at Atirbari. Mia died after being taken to the hospital. The body was sent to the morgue of Sylhet Osmani Medical College Hospital for autopsy. Bdnews24.com/presentative / cs / kms / 1854 d.')\u001b[0m\n\u001b[1;37m                                                                                                                               ^\u001b[0m\n\u001b[1;31mSyntaxError\u001b[0m\u001b[1;31m:\u001b[0m invalid syntax\n"
     ]
    }
   ],
   "source": [
    "word10 = TextBlob('Sylhet, June 14 (bdnews24.com) দুই দুই ”Two motorcyclists were killed when a truck overturned in Sylhet's South Surma. The accident took place at Atirbari on the Dhaka-Sylhet highway on Tuesday afternoon, police said. The deceased were identified as Kawshar Ahmed, 28, son of Neshar Ali of Laxmipur village in South Surma and Kawshar Mia, 20, son of Bazlu Mia of Lamapara village. Sylhet Tamabil Highway Police Sub-Inspector (SI) Kamal Uddin said the motorcyclists met with an accident on their way home from their home in Sylhet around 2pm. Kawsar Ahmed died on the spot when a truck coming from the opposite direction hit the motorcycle at Atirbari. Mia died after being taken to the hospital. The body was sent to the morgue of Sylhet Osmani Medical College Hospital for autopsy. Bdnews24.com/presentative / cs / kms / 1854 d.')\n",
    "z = word10.translate(from_lang='bn',to ='en')\n",
    "print(z)"
   ]
  },
  {
   "cell_type": "code",
   "execution_count": 14,
   "metadata": {},
   "outputs": [
    {
     "ename": "SyntaxError",
     "evalue": "EOL while scanning string literal (<ipython-input-14-22423d8ba749>, line 2)",
     "output_type": "error",
     "traceback": [
      "\u001b[1;36m  File \u001b[1;32m\"<ipython-input-14-22423d8ba749>\"\u001b[1;36m, line \u001b[1;32m2\u001b[0m\n\u001b[1;33m    news_text = TextBlob('এ ঘটনায় বিক্ষুব্ধ মাদ্রাসাছাত্র ও জনতা মহাসড়ক অবরোধ করলে প্রায় এক ঘণ্টা যানবাহন চলাচল বন্ধ থাকে। বাহুবল থানার ওসি আলী ফরিদ জানান, বুধবার সকাল সাড়ে ৯টার দিকে উপজেলার ডুবাঐ বাজার এলাকায় এ দুর্ঘটনা হয়। নিহত এনামুল হক (১০) উপজেলার হিলালপুর হযরত শাহজালাল (র.) সুন্নিয়া দাখিল মাদরাসার চতুর্থ শ্রেণির ছাত্র এবং নবীগঞ্জ উপজেলার বুড়িনাঁও গ্রামের প্রয়াত বিরাম উদ্দিনের ছেলে। এলাকাবাসীরা জানান, সকালে মাদ্রাসায় যাওয়ার সময় ডুবাঐ বাজারে ঢাকা-সিলেট মহাসড়ক পার হচ্ছিল এনামুল। এ সময় সিলেটগামী একটি মাইক্রোবাস চাপা দিয়ে পালিয়ে গেলে ঘটনাস্থলেই মারা যায় শিশুটি।   খবর পেয়ে শায়েস্তাগঞ্জ মহাসড়ক পুলিশ লাশ উদ্ধার করে। ওসি ফরিদ আরও জানান, দুর্ঘটনার পর মাদ্রাসা ছাত্র ও স্থানীয় জনতা মহাসড়ক অবরোধ করে বিক্ষোভ শুরু করে। এ সময় টহলরত পুলিশ-বিজিবি বিক্ষোভকারীদের ছত্রভঙ্গ করার চেষ্টা করলে উভয় পক্ষে পাল্টাপাল্টি ধাওয়ার ঘটনা ঘটে। পরে প্রায় দেড়ঘণ্টা মহাসড়কে যানবাহন চলাচল বন্ধ থাকার পর সংরক্ষিত মহিলা সংসদ সদস্য আমাতুল কিবরিয়া কেয়া চৌধুরী ও উপজেলা চেয়ারম্যান মো. আব্দুল হাইয়ের মধ্যস্থতায় বেলা ১১টার দিকে পরিস্থিতি স্বাভাবিক হয় বলে জানান তিনি।\u001b[0m\n\u001b[1;37m                                                                                                                                                                                                                                                                                                                                                                                                                                                                                                                                                                                                                                                                                                                                                                                                                                                                                                                                                                                                                                                                             ^\u001b[0m\n\u001b[1;31mSyntaxError\u001b[0m\u001b[1;31m:\u001b[0m EOL while scanning string literal\n"
     ]
    }
   ],
   "source": [
    "from textblob import TextBlob\n",
    "news_text = TextBlob('এ ঘটনায় বিক্ষুব্ধ মাদ্রাসাছাত্র ও জনতা মহাসড়ক অবরোধ করলে প্রায় এক ঘণ্টা যানবাহন চলাচল বন্ধ থাকে। বাহুবল থানার ওসি আলী ফরিদ জানান, বুধবার সকাল সাড়ে ৯টার দিকে উপজেলার ডুবাঐ বাজার এলাকায় এ দুর্ঘটনা হয়। নিহত এনামুল হক (১০) উপজেলার হিলালপুর হযরত শাহজালাল (র.) সুন্নিয়া দাখিল মাদরাসার চতুর্থ শ্রেণির ছাত্র এবং নবীগঞ্জ উপজেলার বুড়িনাঁও গ্রামের প্রয়াত বিরাম উদ্দিনের ছেলে। এলাকাবাসীরা জানান, সকালে মাদ্রাসায় যাওয়ার সময় ডুবাঐ বাজারে ঢাকা-সিলেট মহাসড়ক পার হচ্ছিল এনামুল। এ সময় সিলেটগামী একটি মাইক্রোবাস চাপা দিয়ে পালিয়ে গেলে ঘটনাস্থলেই মারা যায় শিশুটি।   খবর পেয়ে শায়েস্তাগঞ্জ মহাসড়ক পুলিশ লাশ উদ্ধার করে। ওসি ফরিদ আরও জানান, দুর্ঘটনার পর মাদ্রাসা ছাত্র ও স্থানীয় জনতা মহাসড়ক অবরোধ করে বিক্ষোভ শুরু করে। এ সময় টহলরত পুলিশ-বিজিবি বিক্ষোভকারীদের ছত্রভঙ্গ করার চেষ্টা করলে উভয় পক্ষে পাল্টাপাল্টি ধাওয়ার ঘটনা ঘটে। পরে প্রায় দেড়ঘণ্টা মহাসড়কে যানবাহন চলাচল বন্ধ থাকার পর সংরক্ষিত মহিলা সংসদ সদস্য আমাতুল কিবরিয়া কেয়া চৌধুরী ও উপজেলা চেয়ারম্যান মো. আব্দুল হাইয়ের মধ্যস্থতায় বেলা ১১টার দিকে পরিস্থিতি স্বাভাবিক হয় বলে জানান তিনি।\n",
    "')\n",
    "trans_eng = news_text.translate(from_lang='en',to ='bn')\n",
    "print(trans_eng)\n"
   ]
  },
  {
   "cell_type": "code",
   "execution_count": 25,
   "metadata": {},
   "outputs": [
    {
     "name": "stdout",
     "output_type": "stream",
     "text": [
      "[TextBlob(\"When the agitated madrasa students and the people blocked the highway, the traffic was stopped for about an hour. Bahubal Police Station OC Ali Farid said the accident took place in Dubai Bazar area of ​​the upazila around 9:30 am on Wednesday. The deceased were identified as Enamul Haque, 10, a fourth class student of Sunnia Dakhil Madrasa, Hazrat Shahjalal of Hilalpur upazila and son of late Biram Uddin of Burinao village in Nabiganj upazila. Locals said Enamul was crossing the Dhaka-Sylhet highway at Dubai Bazar on his way to the madrasa in the morning. The child died on the spot when a Sylhet-bound microbus crushed him and fled. Shayestaganj highway police recovered the body after receiving the news. OC Farid further said that after the accident, madrassa students and local people blocked the highway and started protesting. Police and BGB patrols tried to disperse the protesters, but both sides chased each other. After about an hour and a half of traffic on the highway, the reserved female MP Amatul Kibria Keya Chowdhury and Upazila Chairman. He said the situation returned to normal around 11pm with the mediation of Abdul Hai\")]\n"
     ]
    }
   ],
   "source": [
    "from textblob import TextBlob\n",
    "trans_eng = []\n",
    "news_text = TextBlob('এ ঘটনায় বিক্ষুব্ধ মাদ্রাসাছাত্র ও জনতা মহাসড়ক অবরোধ করলে প্রায় এক ঘণ্টা যানবাহন চলাচল বন্ধ থাকে। বাহুবল থানার ওসি আলী ফরিদ জানান, বুধবার সকাল সাড়ে ৯টার দিকে উপজেলার ডুবাঐ বাজার এলাকায় এ দুর্ঘটনা হয়। নিহত এনামুল হক (১০) উপজেলার হিলালপুর হযরত শাহজালাল (র.) সুন্নিয়া দাখিল মাদরাসার চতুর্থ শ্রেণির ছাত্র এবং নবীগঞ্জ উপজেলার বুড়িনাঁও গ্রামের প্রয়াত বিরাম উদ্দিনের ছেলে। এলাকাবাসীরা জানান, সকালে মাদ্রাসায় যাওয়ার সময় ডুবাঐ বাজারে ঢাকা-সিলেট মহাসড়ক পার হচ্ছিল এনামুল। এ সময় সিলেটগামী একটি মাইক্রোবাস চাপা দিয়ে পালিয়ে গেলে ঘটনাস্থলেই মারা যায় শিশুটি।   খবর পেয়ে শায়েস্তাগঞ্জ মহাসড়ক পুলিশ লাশ উদ্ধার করে। ওসি ফরিদ আরও জানান, দুর্ঘটনার পর মাদ্রাসা ছাত্র ও স্থানীয় জনতা মহাসড়ক অবরোধ করে বিক্ষোভ শুরু করে। এ সময় টহলরত পুলিশ-বিজিবি বিক্ষোভকারীদের ছত্রভঙ্গ করার চেষ্টা করলে উভয় পক্ষে পাল্টাপাল্টি ধাওয়ার ঘটনা ঘটে। পরে প্রায় দেড়ঘণ্টা মহাসড়কে যানবাহন চলাচল বন্ধ থাকার পর সংরক্ষিত মহিলা সংসদ সদস্য আমাতুল কিবরিয়া কেয়া চৌধুরী ও উপজেলা চেয়ারম্যান মো. আব্দুল হাইয়ের মধ্যস্থতায় বেলা ১১টার দিকে পরিস্থিতি স্বাভাবিক হয় বলে জানান তিনি')\n",
    "trans_eng1 = news_text.translate(from_lang='bn',to ='en')\n",
    "trans_eng = [trans_eng1]\n",
    "print(trans_eng)"
   ]
  },
  {
   "cell_type": "code",
   "execution_count": 26,
   "metadata": {},
   "outputs": [
    {
     "name": "stdout",
     "output_type": "stream",
     "text": [
      "[TextBlob(\"when the agitated madrasa students and the people blocked the highway, the traffic was stopped for about an hour. bahubal police station oc ali farid said the accident took place in dubai bazar area of ​​the upazila around 9:30 am on wednesday. the deceased were identified as enamul haque, 10, a fourth class student of sunnia dakhil madrasa, hazrat shahjalal of hilalpur upazila and son of late biram uddin of burinao village in nabiganj upazila. locals said enamul was crossing the dhaka-sylhet highway at dubai bazar on his way to the madrasa in the morning. the child died on the spot when a sylhet-bound microbus crushed him and fled. shayestaganj highway police recovered the body after receiving the news. oc farid further said that after the accident, madrassa students and local people blocked the highway and started protesting. police and bgb patrols tried to disperse the protesters, but both sides chased each other. after about an hour and a half of traffic on the highway, the reserved female mp amatul kibria keya chowdhury and upazila chairman. he said the situation returned to normal around 11pm with the mediation of abdul hai\")]\n"
     ]
    }
   ],
   "source": [
    "import nltk\n",
    "import string\n",
    "trans_eng = [doc.lower() for doc in trans_eng]\n",
    "print (trans_eng)"
   ]
  },
  {
   "cell_type": "code",
   "execution_count": 22,
   "metadata": {},
   "outputs": [
    {
     "name": "stdout",
     "output_type": "stream",
     "text": [
      "['when the agitated madrasa students and the people blocked the highway, the traffic was stopped for about an hour. bahubal police station oc ali farid said the accident took place in dubai bazar area of \\u200b\\u200bthe upazila around 9:30 am on wednesday. the deceased were identified as enamul haque, 10, a fourth class student of sunnia dakhil madrasa, hazrat shahjalal of hilalpur upazila and son of late biram uddin of burinao village in nabiganj upazila. locals said enamul was crossing the dhaka-sylhet highway at dubai bazar on his way to the madrasa in the morning. the child died on the spot when a sylhet-bound microbus crushed him and fled. shayestaganj highway police recovered the body after receiving the news. oc farid further said that after the accident, madrassa students and local people blocked the highway and started protesting. police and bgb patrols tried to disperse the protesters, but both sides chased each other. after about an hour and a half of traffic on the highway, the reserved female mp amatul kibria keya chowdhury and upazila chairman. he said the situation returned to normal around 11pm with the mediation of abdul hai']\n"
     ]
    }
   ],
   "source": [
    "raw_docs = ['When the agitated madrasa students and the people blocked the highway, the traffic was stopped for about an hour. Bahubal Police Station OC Ali Farid said the accident took place in Dubai Bazar area of ​​the upazila around 9:30 am on Wednesday. The deceased were identified as Enamul Haque, 10, a fourth class student of Sunnia Dakhil Madrasa, Hazrat Shahjalal of Hilalpur upazila and son of late Biram Uddin of Burinao village in Nabiganj upazila. Locals said Enamul was crossing the Dhaka-Sylhet highway at Dubai Bazar on his way to the madrasa in the morning. The child died on the spot when a Sylhet-bound microbus crushed him and fled. Shayestaganj highway police recovered the body after receiving the news. OC Farid further said that after the accident, madrassa students and local people blocked the highway and started protesting. Police and BGB patrols tried to disperse the protesters, but both sides chased each other. After about an hour and a half of traffic on the highway, the reserved female MP Amatul Kibria Keya Chowdhury and Upazila Chairman. He said the situation returned to normal around 11pm with the mediation of Abdul Hai']\n",
    "import string\n",
    "raw_docs = [doc.lower() for doc in raw_docs]\n",
    "print(raw_docs)"
   ]
  },
  {
   "cell_type": "code",
   "execution_count": null,
   "metadata": {},
   "outputs": [],
   "source": []
  }
 ],
 "metadata": {
  "kernelspec": {
   "display_name": "Python 3",
   "language": "python",
   "name": "python3"
  },
  "language_info": {
   "codemirror_mode": {
    "name": "ipython",
    "version": 3
   },
   "file_extension": ".py",
   "mimetype": "text/x-python",
   "name": "python",
   "nbconvert_exporter": "python",
   "pygments_lexer": "ipython3",
   "version": "3.7.6"
  }
 },
 "nbformat": 4,
 "nbformat_minor": 4
}
